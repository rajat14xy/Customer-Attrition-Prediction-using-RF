{
 "cells": [
  {
   "cell_type": "code",
   "execution_count": 45,
   "metadata": {
    "_cell_guid": "b1076dfc-b9ad-4769-8c92-a6c4dae69d19",
    "_uuid": "8f2839f25d086af736a60e9eeb907d3b93b6e0e5",
    "execution": {
     "iopub.execute_input": "2021-05-15T05:03:10.137420Z",
     "iopub.status.busy": "2021-05-15T05:03:10.136294Z",
     "iopub.status.idle": "2021-05-15T05:03:11.112833Z",
     "shell.execute_reply": "2021-05-15T05:03:11.111880Z"
    },
    "papermill": {
     "duration": 1.041093,
     "end_time": "2021-05-15T05:03:11.113034",
     "exception": false,
     "start_time": "2021-05-15T05:03:10.071941",
     "status": "completed"
    },
    "tags": []
   },
   "outputs": [],
   "source": [
    "# This Python 3 environment comes with many helpful analytics libraries installed\n",
    "# It is defined by the kaggle/python Docker image: https://github.com/kaggle/docker-python\n",
    "# For example, here's several helpful packages to load\n",
    "\n",
    "import numpy as np # linear algebra\n",
    "import pandas as pd # data processing, CSV file I/O (e.g. pd.read_csv)\n",
    "\n",
    "import numpy as np                     # For mathematical calculations \n",
    "import seaborn as sns                  # For data visualization \n",
    "import matplotlib.pyplot as plt "
   ]
  },
  {
   "cell_type": "markdown",
   "metadata": {
    "papermill": {
     "duration": 0.058545,
     "end_time": "2021-05-15T05:03:11.230970",
     "exception": false,
     "start_time": "2021-05-15T05:03:11.172425",
     "status": "completed"
    },
    "tags": []
   },
   "source": [
    "**t : train data\n",
    "tt : test data**"
   ]
  },
  {
   "cell_type": "code",
   "execution_count": 46,
   "metadata": {
    "execution": {
     "iopub.execute_input": "2021-05-15T05:03:11.358647Z",
     "iopub.status.busy": "2021-05-15T05:03:11.357661Z",
     "iopub.status.idle": "2021-05-15T05:03:11.426450Z",
     "shell.execute_reply": "2021-05-15T05:03:11.426983Z"
    },
    "papermill": {
     "duration": 0.136992,
     "end_time": "2021-05-15T05:03:11.427168",
     "exception": false,
     "start_time": "2021-05-15T05:03:11.290176",
     "status": "completed"
    },
    "tags": []
   },
   "outputs": [],
   "source": [
    "t = pd.read_csv(\"train.csv\")\n"
   ]
  },
  {
   "cell_type": "markdown",
   "metadata": {
    "papermill": {
     "duration": 0.059284,
     "end_time": "2021-05-15T05:03:11.546937",
     "exception": false,
     "start_time": "2021-05-15T05:03:11.487653",
     "status": "completed"
    },
    "tags": []
   },
   "source": [
    "****keeping a unaltered copy as orignal ****"
   ]
  },
  {
   "cell_type": "code",
   "execution_count": 47,
   "metadata": {
    "execution": {
     "iopub.execute_input": "2021-05-15T05:03:11.670431Z",
     "iopub.status.busy": "2021-05-15T05:03:11.669446Z",
     "iopub.status.idle": "2021-05-15T05:03:11.672769Z",
     "shell.execute_reply": "2021-05-15T05:03:11.672136Z"
    },
    "papermill": {
     "duration": 0.066789,
     "end_time": "2021-05-15T05:03:11.672943",
     "exception": false,
     "start_time": "2021-05-15T05:03:11.606154",
     "status": "completed"
    },
    "tags": []
   },
   "outputs": [],
   "source": [
    "train_orignal=t\n"
   ]
  },
  {
   "cell_type": "code",
   "execution_count": 48,
   "metadata": {
    "execution": {
     "iopub.execute_input": "2021-05-15T05:03:11.797147Z",
     "iopub.status.busy": "2021-05-15T05:03:11.796419Z",
     "iopub.status.idle": "2021-05-15T05:03:11.798971Z",
     "shell.execute_reply": "2021-05-15T05:03:11.799460Z"
    },
    "papermill": {
     "duration": 0.06694,
     "end_time": "2021-05-15T05:03:11.799647",
     "exception": false,
     "start_time": "2021-05-15T05:03:11.732707",
     "status": "completed"
    },
    "tags": []
   },
   "outputs": [],
   "source": [
    "#test_orignal"
   ]
  },
  {
   "cell_type": "markdown",
   "metadata": {
    "papermill": {
     "duration": 0.060725,
     "end_time": "2021-05-15T05:03:11.920659",
     "exception": false,
     "start_time": "2021-05-15T05:03:11.859934",
     "status": "completed"
    },
    "tags": []
   },
   "source": [
    "***dropping all the rows containg NaN value, from train data***"
   ]
  },
  {
   "cell_type": "code",
   "execution_count": 49,
   "metadata": {
    "execution": {
     "iopub.execute_input": "2021-05-15T05:03:12.063913Z",
     "iopub.status.busy": "2021-05-15T05:03:12.062847Z",
     "iopub.status.idle": "2021-05-15T05:03:12.085905Z",
     "shell.execute_reply": "2021-05-15T05:03:12.085272Z"
    },
    "papermill": {
     "duration": 0.105959,
     "end_time": "2021-05-15T05:03:12.086051",
     "exception": false,
     "start_time": "2021-05-15T05:03:11.980092",
     "status": "completed"
    },
    "tags": []
   },
   "outputs": [],
   "source": [
    "t = t.dropna(axis=0,how='any')"
   ]
  },
  {
   "cell_type": "markdown",
   "metadata": {
    "papermill": {
     "duration": 0.059247,
     "end_time": "2021-05-15T05:03:12.204939",
     "exception": false,
     "start_time": "2021-05-15T05:03:12.145692",
     "status": "completed"
    },
    "tags": []
   },
   "source": [
    "# sex"
   ]
  },
  {
   "cell_type": "code",
   "execution_count": 50,
   "metadata": {
    "execution": {
     "iopub.execute_input": "2021-05-15T05:03:12.327780Z",
     "iopub.status.busy": "2021-05-15T05:03:12.326946Z",
     "iopub.status.idle": "2021-05-15T05:03:12.343861Z",
     "shell.execute_reply": "2021-05-15T05:03:12.342890Z"
    },
    "papermill": {
     "duration": 0.079386,
     "end_time": "2021-05-15T05:03:12.344071",
     "exception": false,
     "start_time": "2021-05-15T05:03:12.264685",
     "status": "completed"
    },
    "tags": []
   },
   "outputs": [
    {
     "data": {
      "text/plain": [
       "Male      3213\n",
       "Female    3125\n",
       "Name: sex, dtype: int64"
      ]
     },
     "execution_count": 50,
     "metadata": {},
     "output_type": "execute_result"
    }
   ],
   "source": [
    "train_orignal['sex'].value_counts()"
   ]
  },
  {
   "cell_type": "code",
   "execution_count": 51,
   "metadata": {
    "execution": {
     "iopub.execute_input": "2021-05-15T05:03:12.471198Z",
     "iopub.status.busy": "2021-05-15T05:03:12.470233Z",
     "iopub.status.idle": "2021-05-15T05:03:12.724156Z",
     "shell.execute_reply": "2021-05-15T05:03:12.723652Z"
    },
    "papermill": {
     "duration": 0.318459,
     "end_time": "2021-05-15T05:03:12.724294",
     "exception": false,
     "start_time": "2021-05-15T05:03:12.405835",
     "status": "completed"
    },
    "tags": []
   },
   "outputs": [
    {
     "data": {
      "image/png": "[encoded data removed]",
      "text/plain": [
       "<Figure size 288x432 with 1 Axes>"
      ]
     },
     "metadata": {
      "needs_background": "light"
     },
     "output_type": "display_data"
    }
   ],
   "source": [
    "x=pd.crosstab(train_orignal['sex'],train_orignal['CustomerAttrition']) \n",
    "\n",
    "x.div(x.sum(1).astype(float), axis=0).plot(kind=\"bar\", stacked=False, figsize=(4,6)) \n",
    "plt.show() "
   ]
  },
  {
   "cell_type": "markdown",
   "metadata": {
    "papermill": {
     "duration": 0.060566,
     "end_time": "2021-05-15T05:03:12.845983",
     "exception": false,
     "start_time": "2021-05-15T05:03:12.785417",
     "status": "completed"
    },
    "tags": []
   },
   "source": [
    "# Aged"
   ]
  },
  {
   "cell_type": "code",
   "execution_count": 52,
   "metadata": {
    "execution": {
     "iopub.execute_input": "2021-05-15T05:03:12.972222Z",
     "iopub.status.busy": "2021-05-15T05:03:12.971280Z",
     "iopub.status.idle": "2021-05-15T05:03:12.979709Z",
     "shell.execute_reply": "2021-05-15T05:03:12.980140Z"
    },
    "papermill": {
     "duration": 0.073245,
     "end_time": "2021-05-15T05:03:12.980304",
     "exception": false,
     "start_time": "2021-05-15T05:03:12.907059",
     "status": "completed"
    },
    "tags": []
   },
   "outputs": [
    {
     "data": {
      "text/plain": [
       "No     5309\n",
       "Yes    1029\n",
       "Name: Aged, dtype: int64"
      ]
     },
     "execution_count": 52,
     "metadata": {},
     "output_type": "execute_result"
    }
   ],
   "source": [
    "train_orignal['Aged'].value_counts()"
   ]
  },
  {
   "cell_type": "code",
   "execution_count": 53,
   "metadata": {
    "execution": {
     "iopub.execute_input": "2021-05-15T05:03:13.108055Z",
     "iopub.status.busy": "2021-05-15T05:03:13.107108Z",
     "iopub.status.idle": "2021-05-15T05:03:13.295635Z",
     "shell.execute_reply": "2021-05-15T05:03:13.296094Z"
    },
    "papermill": {
     "duration": 0.253697,
     "end_time": "2021-05-15T05:03:13.296270",
     "exception": false,
     "start_time": "2021-05-15T05:03:13.042573",
     "status": "completed"
    },
    "tags": []
   },
   "outputs": [
    {
     "data": {
      "image/png": "[encoded data removed]",
      "text/plain": [
       "<Figure size 288x432 with 1 Axes>"
      ]
     },
     "metadata": {
      "needs_background": "light"
     },
     "output_type": "display_data"
    }
   ],
   "source": [
    "x=pd.crosstab(train_orignal['Aged'],train_orignal['CustomerAttrition']) \n",
    "\n",
    "x.div(x.sum(1).astype(float), axis=0).plot(kind=\"bar\", stacked=False, figsize=(4,6)) \n",
    "plt.show() "
   ]
  },
  {
   "cell_type": "markdown",
   "metadata": {
    "papermill": {
     "duration": 0.078228,
     "end_time": "2021-05-15T05:03:13.441318",
     "exception": false,
     "start_time": "2021-05-15T05:03:13.363090",
     "status": "completed"
    },
    "tags": []
   },
   "source": [
    "# Married"
   ]
  },
  {
   "cell_type": "code",
   "execution_count": 54,
   "metadata": {
    "execution": {
     "iopub.execute_input": "2021-05-15T05:03:13.575629Z",
     "iopub.status.busy": "2021-05-15T05:03:13.574702Z",
     "iopub.status.idle": "2021-05-15T05:03:13.583488Z",
     "shell.execute_reply": "2021-05-15T05:03:13.583977Z"
    },
    "papermill": {
     "duration": 0.074775,
     "end_time": "2021-05-15T05:03:13.584169",
     "exception": false,
     "start_time": "2021-05-15T05:03:13.509394",
     "status": "completed"
    },
    "tags": []
   },
   "outputs": [
    {
     "data": {
      "text/plain": [
       "No     3273\n",
       "Yes    3065\n",
       "Name: Married, dtype: int64"
      ]
     },
     "execution_count": 54,
     "metadata": {},
     "output_type": "execute_result"
    }
   ],
   "source": [
    "train_orignal['Married'].value_counts()"
   ]
  },
  {
   "cell_type": "code",
   "execution_count": 55,
   "metadata": {
    "execution": {
     "iopub.execute_input": "2021-05-15T05:03:13.714168Z",
     "iopub.status.busy": "2021-05-15T05:03:13.713538Z",
     "iopub.status.idle": "2021-05-15T05:03:13.900970Z",
     "shell.execute_reply": "2021-05-15T05:03:13.901427Z"
    },
    "papermill": {
     "duration": 0.254379,
     "end_time": "2021-05-15T05:03:13.901615",
     "exception": false,
     "start_time": "2021-05-15T05:03:13.647236",
     "status": "completed"
    },
    "tags": []
   },
   "outputs": [
    {
     "data": {
      "image/png": "[encoded data removed]",
      "text/plain": [
       "<Figure size 288x432 with 1 Axes>"
      ]
     },
     "metadata": {
      "needs_background": "light"
     },
     "output_type": "display_data"
    }
   ],
   "source": [
    "x=pd.crosstab(train_orignal['Married'],train_orignal['CustomerAttrition']) \n",
    "\n",
    "x.div(x.sum(1).astype(float), axis=0).plot(kind=\"bar\", stacked=False, figsize=(4,6)) \n",
    "plt.show() "
   ]
  },
  {
   "cell_type": "markdown",
   "metadata": {
    "papermill": {
     "duration": 0.064195,
     "end_time": "2021-05-15T05:03:14.029279",
     "exception": false,
     "start_time": "2021-05-15T05:03:13.965084",
     "status": "completed"
    },
    "tags": []
   },
   "source": [
    "# Total Dependents"
   ]
  },
  {
   "cell_type": "code",
   "execution_count": 56,
   "metadata": {
    "execution": {
     "iopub.execute_input": "2021-05-15T05:03:14.163289Z",
     "iopub.status.busy": "2021-05-15T05:03:14.162584Z",
     "iopub.status.idle": "2021-05-15T05:03:14.172219Z",
     "shell.execute_reply": "2021-05-15T05:03:14.171600Z"
    },
    "papermill": {
     "duration": 0.078216,
     "end_time": "2021-05-15T05:03:14.172366",
     "exception": false,
     "start_time": "2021-05-15T05:03:14.094150",
     "status": "completed"
    },
    "tags": []
   },
   "outputs": [
    {
     "data": {
      "text/plain": [
       "No     4432\n",
       "Yes    1906\n",
       "Name: TotalDependents, dtype: int64"
      ]
     },
     "execution_count": 56,
     "metadata": {},
     "output_type": "execute_result"
    }
   ],
   "source": [
    "train_orignal['TotalDependents'].value_counts()"
   ]
  },
  {
   "cell_type": "code",
   "execution_count": 57,
   "metadata": {
    "execution": {
     "iopub.execute_input": "2021-05-15T05:03:14.305655Z",
     "iopub.status.busy": "2021-05-15T05:03:14.304955Z",
     "iopub.status.idle": "2021-05-15T05:03:14.494997Z",
     "shell.execute_reply": "2021-05-15T05:03:14.495497Z"
    },
    "papermill": {
     "duration": 0.258921,
     "end_time": "2021-05-15T05:03:14.495681",
     "exception": false,
     "start_time": "2021-05-15T05:03:14.236760",
     "status": "completed"
    },
    "tags": []
   },
   "outputs": [
    {
     "data": {
      "image/png": "[encoded data removed]",
      "text/plain": [
       "<Figure size 288x432 with 1 Axes>"
      ]
     },
     "metadata": {
      "needs_background": "light"
     },
     "output_type": "display_data"
    }
   ],
   "source": [
    "x=pd.crosstab(train_orignal['TotalDependents'],train_orignal['CustomerAttrition']) \n",
    "\n",
    "x.div(x.sum(1).astype(float), axis=0).plot(kind=\"bar\", stacked=False, figsize=(4,6)) \n",
    "plt.show() "
   ]
  },
  {
   "cell_type": "markdown",
   "metadata": {
    "papermill": {
     "duration": 0.06448,
     "end_time": "2021-05-15T05:03:14.626439",
     "exception": false,
     "start_time": "2021-05-15T05:03:14.561959",
     "status": "completed"
    },
    "tags": []
   },
   "source": [
    "# Mobile Service"
   ]
  },
  {
   "cell_type": "code",
   "execution_count": 58,
   "metadata": {
    "execution": {
     "iopub.execute_input": "2021-05-15T05:03:14.759169Z",
     "iopub.status.busy": "2021-05-15T05:03:14.758483Z",
     "iopub.status.idle": "2021-05-15T05:03:14.767171Z",
     "shell.execute_reply": "2021-05-15T05:03:14.767616Z"
    },
    "papermill": {
     "duration": 0.076683,
     "end_time": "2021-05-15T05:03:14.767837",
     "exception": false,
     "start_time": "2021-05-15T05:03:14.691154",
     "status": "completed"
    },
    "tags": []
   },
   "outputs": [
    {
     "data": {
      "text/plain": [
       "Yes    5772\n",
       "No      566\n",
       "Name: MobileService, dtype: int64"
      ]
     },
     "execution_count": 58,
     "metadata": {},
     "output_type": "execute_result"
    }
   ],
   "source": [
    "train_orignal['MobileService'].value_counts()"
   ]
  },
  {
   "cell_type": "code",
   "execution_count": 59,
   "metadata": {
    "execution": {
     "iopub.execute_input": "2021-05-15T05:03:14.907467Z",
     "iopub.status.busy": "2021-05-15T05:03:14.906457Z",
     "iopub.status.idle": "2021-05-15T05:03:15.098264Z",
     "shell.execute_reply": "2021-05-15T05:03:15.097432Z"
    },
    "papermill": {
     "duration": 0.264792,
     "end_time": "2021-05-15T05:03:15.098422",
     "exception": false,
     "start_time": "2021-05-15T05:03:14.833630",
     "status": "completed"
    },
    "tags": []
   },
   "outputs": [
    {
     "data": {
      "image/png": "[encoded data removed]",
      "text/plain": [
       "<Figure size 288x432 with 1 Axes>"
      ]
     },
     "metadata": {
      "needs_background": "light"
     },
     "output_type": "display_data"
    }
   ],
   "source": [
    "x=pd.crosstab(train_orignal['MobileService'],train_orignal['CustomerAttrition']) \n",
    "\n",
    "x.div(x.sum(1).astype(float), axis=0).plot(kind=\"bar\", stacked=False, figsize=(4,6)) \n",
    "plt.show() "
   ]
  },
  {
   "cell_type": "markdown",
   "metadata": {
    "papermill": {
     "duration": 0.067805,
     "end_time": "2021-05-15T05:03:15.232915",
     "exception": false,
     "start_time": "2021-05-15T05:03:15.165110",
     "status": "completed"
    },
    "tags": []
   },
   "source": [
    "# 4G Service"
   ]
  },
  {
   "cell_type": "code",
   "execution_count": 60,
   "metadata": {
    "execution": {
     "iopub.execute_input": "2021-05-15T05:03:15.369600Z",
     "iopub.status.busy": "2021-05-15T05:03:15.368675Z",
     "iopub.status.idle": "2021-05-15T05:03:15.377018Z",
     "shell.execute_reply": "2021-05-15T05:03:15.377492Z"
    },
    "papermill": {
     "duration": 0.07814,
     "end_time": "2021-05-15T05:03:15.377669",
     "exception": false,
     "start_time": "2021-05-15T05:03:15.299529",
     "status": "completed"
    },
    "tags": []
   },
   "outputs": [
    {
     "data": {
      "text/plain": [
       "Wifi Broadband         2794\n",
       "Satellite Broadband    2177\n",
       "No                     1367\n",
       "Name: 4GService, dtype: int64"
      ]
     },
     "execution_count": 60,
     "metadata": {},
     "output_type": "execute_result"
    }
   ],
   "source": [
    "train_orignal['4GService'].value_counts()"
   ]
  },
  {
   "cell_type": "code",
   "execution_count": 61,
   "metadata": {
    "execution": {
     "iopub.execute_input": "2021-05-15T05:03:15.515373Z",
     "iopub.status.busy": "2021-05-15T05:03:15.514429Z",
     "iopub.status.idle": "2021-05-15T05:03:15.712210Z",
     "shell.execute_reply": "2021-05-15T05:03:15.712821Z"
    },
    "papermill": {
     "duration": 0.269215,
     "end_time": "2021-05-15T05:03:15.712997",
     "exception": false,
     "start_time": "2021-05-15T05:03:15.443782",
     "status": "completed"
    },
    "tags": []
   },
   "outputs": [
    {
     "data": {
      "image/png": "[encoded data removed]",
      "text/plain": [
       "<Figure size 288x432 with 1 Axes>"
      ]
     },
     "metadata": {
      "needs_background": "light"
     },
     "output_type": "display_data"
    }
   ],
   "source": [
    "x=pd.crosstab(train_orignal['4GService'],train_orignal['CustomerAttrition']) \n",
    "\n",
    "x.div(x.sum(1).astype(float), axis=0).plot(kind=\"bar\", stacked=False, figsize=(4,6)) \n",
    "plt.show() "
   ]
  },
  {
   "cell_type": "markdown",
   "metadata": {
    "papermill": {
     "duration": 0.068397,
     "end_time": "2021-05-15T05:03:15.850231",
     "exception": false,
     "start_time": "2021-05-15T05:03:15.781834",
     "status": "completed"
    },
    "tags": []
   },
   "source": [
    "***4G Service can be removed seeing above graph***"
   ]
  },
  {
   "cell_type": "markdown",
   "metadata": {
    "papermill": {
     "duration": 0.068396,
     "end_time": "2021-05-15T05:03:15.988812",
     "exception": false,
     "start_time": "2021-05-15T05:03:15.920416",
     "status": "completed"
    },
    "tags": []
   },
   "source": [
    "# Cyber Protection"
   ]
  },
  {
   "cell_type": "code",
   "execution_count": 62,
   "metadata": {
    "execution": {
     "iopub.execute_input": "2021-05-15T05:03:16.133658Z",
     "iopub.status.busy": "2021-05-15T05:03:16.132660Z",
     "iopub.status.idle": "2021-05-15T05:03:16.142388Z",
     "shell.execute_reply": "2021-05-15T05:03:16.142932Z"
    },
    "papermill": {
     "duration": 0.08224,
     "end_time": "2021-05-15T05:03:16.143112",
     "exception": false,
     "start_time": "2021-05-15T05:03:16.060872",
     "status": "completed"
    },
    "tags": []
   },
   "outputs": [
    {
     "data": {
      "text/plain": [
       "No     4508\n",
       "Yes    1830\n",
       "Name: CyberProtection, dtype: int64"
      ]
     },
     "execution_count": 62,
     "metadata": {},
     "output_type": "execute_result"
    }
   ],
   "source": [
    "train_orignal['CyberProtection'].value_counts()"
   ]
  },
  {
   "cell_type": "code",
   "execution_count": 63,
   "metadata": {
    "execution": {
     "iopub.execute_input": "2021-05-15T05:03:16.288446Z",
     "iopub.status.busy": "2021-05-15T05:03:16.287789Z",
     "iopub.status.idle": "2021-05-15T05:03:16.471347Z",
     "shell.execute_reply": "2021-05-15T05:03:16.470803Z"
    },
    "papermill": {
     "duration": 0.260482,
     "end_time": "2021-05-15T05:03:16.471533",
     "exception": false,
     "start_time": "2021-05-15T05:03:16.211051",
     "status": "completed"
    },
    "tags": []
   },
   "outputs": [
    {
     "data": {
      "image/png": "[encoded data removed]",
      "text/plain": [
       "<Figure size 288x432 with 1 Axes>"
      ]
     },
     "metadata": {
      "needs_background": "light"
     },
     "output_type": "display_data"
    }
   ],
   "source": [
    "x=pd.crosstab(train_orignal['CyberProtection'],train_orignal['CustomerAttrition']) \n",
    "\n",
    "x.div(x.sum(1).astype(float), axis=0).plot(kind=\"bar\", stacked=False, figsize=(4,6)) \n",
    "plt.show() "
   ]
  },
  {
   "cell_type": "markdown",
   "metadata": {
    "papermill": {
     "duration": 0.068721,
     "end_time": "2021-05-15T05:03:16.610123",
     "exception": false,
     "start_time": "2021-05-15T05:03:16.541402",
     "status": "completed"
    },
    "tags": []
   },
   "source": [
    "# Hardware Support"
   ]
  },
  {
   "cell_type": "code",
   "execution_count": 64,
   "metadata": {
    "execution": {
     "iopub.execute_input": "2021-05-15T05:03:16.756761Z",
     "iopub.status.busy": "2021-05-15T05:03:16.756073Z",
     "iopub.status.idle": "2021-05-15T05:03:16.761815Z",
     "shell.execute_reply": "2021-05-15T05:03:16.761148Z"
    },
    "papermill": {
     "duration": 0.082993,
     "end_time": "2021-05-15T05:03:16.761956",
     "exception": false,
     "start_time": "2021-05-15T05:03:16.678963",
     "status": "completed"
    },
    "tags": []
   },
   "outputs": [
    {
     "data": {
      "text/plain": [
       "No     4185\n",
       "Yes    2153\n",
       "Name: HardwareSupport, dtype: int64"
      ]
     },
     "execution_count": 64,
     "metadata": {},
     "output_type": "execute_result"
    }
   ],
   "source": [
    "train_orignal['HardwareSupport'].value_counts()"
   ]
  },
  {
   "cell_type": "code",
   "execution_count": 65,
   "metadata": {
    "execution": {
     "iopub.execute_input": "2021-05-15T05:03:16.904735Z",
     "iopub.status.busy": "2021-05-15T05:03:16.904048Z",
     "iopub.status.idle": "2021-05-15T05:03:17.100527Z",
     "shell.execute_reply": "2021-05-15T05:03:17.101037Z"
    },
    "papermill": {
     "duration": 0.269565,
     "end_time": "2021-05-15T05:03:17.101210",
     "exception": false,
     "start_time": "2021-05-15T05:03:16.831645",
     "status": "completed"
    },
    "tags": []
   },
   "outputs": [
    {
     "data": {
      "image/png": "[encoded data removed]",
      "text/plain": [
       "<Figure size 288x432 with 1 Axes>"
      ]
     },
     "metadata": {
      "needs_background": "light"
     },
     "output_type": "display_data"
    }
   ],
   "source": [
    "x=pd.crosstab(train_orignal['HardwareSupport'],train_orignal['CustomerAttrition']) \n",
    "\n",
    "x.div(x.sum(1).astype(float), axis=0).plot(kind=\"bar\", stacked=False, figsize=(4,6)) \n",
    "plt.show() "
   ]
  },
  {
   "cell_type": "markdown",
   "metadata": {
    "papermill": {
     "duration": 0.069457,
     "end_time": "2021-05-15T05:03:17.241899",
     "exception": false,
     "start_time": "2021-05-15T05:03:17.172442",
     "status": "completed"
    },
    "tags": []
   },
   "source": [
    "# Technical Assistance"
   ]
  },
  {
   "cell_type": "code",
   "execution_count": 66,
   "metadata": {
    "execution": {
     "iopub.execute_input": "2021-05-15T05:03:17.384825Z",
     "iopub.status.busy": "2021-05-15T05:03:17.384212Z",
     "iopub.status.idle": "2021-05-15T05:03:17.392212Z",
     "shell.execute_reply": "2021-05-15T05:03:17.392695Z"
    },
    "papermill": {
     "duration": 0.081393,
     "end_time": "2021-05-15T05:03:17.392884",
     "exception": false,
     "start_time": "2021-05-15T05:03:17.311491",
     "status": "completed"
    },
    "tags": []
   },
   "outputs": [
    {
     "data": {
      "text/plain": [
       "No     4508\n",
       "Yes    1830\n",
       "Name: TechnicalAssistance, dtype: int64"
      ]
     },
     "execution_count": 66,
     "metadata": {},
     "output_type": "execute_result"
    }
   ],
   "source": [
    "train_orignal['TechnicalAssistance'].value_counts()"
   ]
  },
  {
   "cell_type": "code",
   "execution_count": 67,
   "metadata": {
    "execution": {
     "iopub.execute_input": "2021-05-15T05:03:17.537569Z",
     "iopub.status.busy": "2021-05-15T05:03:17.536932Z",
     "iopub.status.idle": "2021-05-15T05:03:17.726778Z",
     "shell.execute_reply": "2021-05-15T05:03:17.727248Z"
    },
    "papermill": {
     "duration": 0.264594,
     "end_time": "2021-05-15T05:03:17.727434",
     "exception": false,
     "start_time": "2021-05-15T05:03:17.462840",
     "status": "completed"
    },
    "tags": []
   },
   "outputs": [
    {
     "data": {
      "image/png": "[encoded data removed]",
      "text/plain": [
       "<Figure size 288x432 with 1 Axes>"
      ]
     },
     "metadata": {
      "needs_background": "light"
     },
     "output_type": "display_data"
    }
   ],
   "source": [
    "x=pd.crosstab(train_orignal['TechnicalAssistance'],train_orignal['CustomerAttrition']) \n",
    "\n",
    "x.div(x.sum(1).astype(float), axis=0).plot(kind=\"bar\", stacked=False, figsize=(4,6)) \n",
    "plt.show() "
   ]
  },
  {
   "cell_type": "markdown",
   "metadata": {
    "papermill": {
     "duration": 0.071004,
     "end_time": "2021-05-15T05:03:17.871568",
     "exception": false,
     "start_time": "2021-05-15T05:03:17.800564",
     "status": "completed"
    },
    "tags": []
   },
   "source": [
    "# Film Subscription"
   ]
  },
  {
   "cell_type": "code",
   "execution_count": 68,
   "metadata": {
    "execution": {
     "iopub.execute_input": "2021-05-15T05:03:18.018715Z",
     "iopub.status.busy": "2021-05-15T05:03:18.017749Z",
     "iopub.status.idle": "2021-05-15T05:03:18.026351Z",
     "shell.execute_reply": "2021-05-15T05:03:18.026812Z"
    },
    "papermill": {
     "duration": 0.084634,
     "end_time": "2021-05-15T05:03:18.026985",
     "exception": false,
     "start_time": "2021-05-15T05:03:17.942351",
     "status": "completed"
    },
    "tags": []
   },
   "outputs": [
    {
     "data": {
      "text/plain": [
       "No     3908\n",
       "Yes    2430\n",
       "Name: FilmSubscription, dtype: int64"
      ]
     },
     "execution_count": 68,
     "metadata": {},
     "output_type": "execute_result"
    }
   ],
   "source": [
    "train_orignal['FilmSubscription'].value_counts()"
   ]
  },
  {
   "cell_type": "code",
   "execution_count": 69,
   "metadata": {
    "execution": {
     "iopub.execute_input": "2021-05-15T05:03:18.175071Z",
     "iopub.status.busy": "2021-05-15T05:03:18.174095Z",
     "iopub.status.idle": "2021-05-15T05:03:18.363724Z",
     "shell.execute_reply": "2021-05-15T05:03:18.364173Z"
    },
    "papermill": {
     "duration": 0.265229,
     "end_time": "2021-05-15T05:03:18.364347",
     "exception": false,
     "start_time": "2021-05-15T05:03:18.099118",
     "status": "completed"
    },
    "tags": []
   },
   "outputs": [
    {
     "data": {
      "image/png": "[encoded data removed]",
      "text/plain": [
       "<Figure size 288x432 with 1 Axes>"
      ]
     },
     "metadata": {
      "needs_background": "light"
     },
     "output_type": "display_data"
    }
   ],
   "source": [
    "x=pd.crosstab(train_orignal['FilmSubscription'],train_orignal['CustomerAttrition']) \n",
    "\n",
    "x.div(x.sum(1).astype(float), axis=0).plot(kind=\"bar\", stacked=False, figsize=(4,6)) \n",
    "plt.show() "
   ]
  },
  {
   "cell_type": "markdown",
   "metadata": {
    "papermill": {
     "duration": 0.072443,
     "end_time": "2021-05-15T05:03:18.509315",
     "exception": false,
     "start_time": "2021-05-15T05:03:18.436872",
     "status": "completed"
    },
    "tags": []
   },
   "source": [
    "# Settlement Process"
   ]
  },
  {
   "cell_type": "code",
   "execution_count": 70,
   "metadata": {
    "execution": {
     "iopub.execute_input": "2021-05-15T05:03:18.660098Z",
     "iopub.status.busy": "2021-05-15T05:03:18.659173Z",
     "iopub.status.idle": "2021-05-15T05:03:18.667889Z",
     "shell.execute_reply": "2021-05-15T05:03:18.668352Z"
    },
    "papermill": {
     "duration": 0.0861,
     "end_time": "2021-05-15T05:03:18.668543",
     "exception": false,
     "start_time": "2021-05-15T05:03:18.582443",
     "status": "completed"
    },
    "tags": []
   },
   "outputs": [
    {
     "data": {
      "text/plain": [
       "Electronic    2134\n",
       "Check         1453\n",
       "Bank          1390\n",
       "Card          1361\n",
       "Name: SettlementProcess, dtype: int64"
      ]
     },
     "execution_count": 70,
     "metadata": {},
     "output_type": "execute_result"
    }
   ],
   "source": [
    "train_orignal['SettlementProcess'].value_counts()"
   ]
  },
  {
   "cell_type": "code",
   "execution_count": 71,
   "metadata": {
    "execution": {
     "iopub.execute_input": "2021-05-15T05:03:18.820151Z",
     "iopub.status.busy": "2021-05-15T05:03:18.819164Z",
     "iopub.status.idle": "2021-05-15T05:03:19.035098Z",
     "shell.execute_reply": "2021-05-15T05:03:19.034428Z"
    },
    "papermill": {
     "duration": 0.293531,
     "end_time": "2021-05-15T05:03:19.035237",
     "exception": false,
     "start_time": "2021-05-15T05:03:18.741706",
     "status": "completed"
    },
    "tags": []
   },
   "outputs": [
    {
     "data": {
      "image/png": "[encoded data removed]",
      "text/plain": [
       "<Figure size 288x432 with 1 Axes>"
      ]
     },
     "metadata": {
      "needs_background": "light"
     },
     "output_type": "display_data"
    }
   ],
   "source": [
    "x=pd.crosstab(train_orignal['SettlementProcess'],train_orignal['CustomerAttrition']) \n",
    "\n",
    "x.div(x.sum(1).astype(float), axis=0).plot(kind=\"bar\", stacked=False, figsize=(4,6)) \n",
    "plt.show() "
   ]
  },
  {
   "cell_type": "markdown",
   "metadata": {
    "papermill": {
     "duration": 0.074328,
     "end_time": "2021-05-15T05:03:19.184322",
     "exception": false,
     "start_time": "2021-05-15T05:03:19.109994",
     "status": "completed"
    },
    "tags": []
   },
   "source": [
    "**Here we can see that Bank, Card are  apprioximately same in quantity and nearly same numbers of YES and NO. So after seeing corelation with target we will decide of combining two or more features.**"
   ]
  },
  {
   "cell_type": "markdown",
   "metadata": {
    "papermill": {
     "duration": 0.072981,
     "end_time": "2021-05-15T05:03:19.330988",
     "exception": false,
     "start_time": "2021-05-15T05:03:19.258007",
     "status": "completed"
    },
    "tags": []
   },
   "source": [
    "**combining Bank to Card**"
   ]
  },
  {
   "cell_type": "code",
   "execution_count": 72,
   "metadata": {
    "execution": {
     "iopub.execute_input": "2021-05-15T05:03:19.484380Z",
     "iopub.status.busy": "2021-05-15T05:03:19.483744Z",
     "iopub.status.idle": "2021-05-15T05:03:19.493118Z",
     "shell.execute_reply": "2021-05-15T05:03:19.493846Z"
    },
    "papermill": {
     "duration": 0.089621,
     "end_time": "2021-05-15T05:03:19.494078",
     "exception": false,
     "start_time": "2021-05-15T05:03:19.404457",
     "status": "completed"
    },
    "tags": []
   },
   "outputs": [
    {
     "name": "stderr",
     "output_type": "stream",
     "text": [
      "C:\\Users\\PRABHA\\anaconda3\\lib\\site-packages\\pandas\\core\\series.py:4563: SettingWithCopyWarning: \n",
      "A value is trying to be set on a copy of a slice from a DataFrame\n",
      "\n",
      "See the caveats in the documentation: https://pandas.pydata.org/pandas-docs/stable/user_guide/indexing.html#returning-a-view-versus-a-copy\n",
      "  return super().replace(\n"
     ]
    }
   ],
   "source": [
    "#t['SettlementProcess'].replace('Check', 'Card',inplace=True) \n",
    "t['SettlementProcess'].replace('Bank', 'Card',inplace=True) \n"
   ]
  },
  {
   "cell_type": "markdown",
   "metadata": {
    "papermill": {
     "duration": 0.074717,
     "end_time": "2021-05-15T05:03:19.647863",
     "exception": false,
     "start_time": "2021-05-15T05:03:19.573146",
     "status": "completed"
    },
    "tags": []
   },
   "source": [
    "# making dummies for Settelement Process"
   ]
  },
  {
   "cell_type": "code",
   "execution_count": 73,
   "metadata": {
    "execution": {
     "iopub.execute_input": "2021-05-15T05:03:19.802052Z",
     "iopub.status.busy": "2021-05-15T05:03:19.801037Z",
     "iopub.status.idle": "2021-05-15T05:03:19.816734Z",
     "shell.execute_reply": "2021-05-15T05:03:19.817246Z"
    },
    "papermill": {
     "duration": 0.094546,
     "end_time": "2021-05-15T05:03:19.817433",
     "exception": false,
     "start_time": "2021-05-15T05:03:19.722887",
     "status": "completed"
    },
    "tags": []
   },
   "outputs": [],
   "source": [
    "t=pd.get_dummies(t,columns=[ 'SettlementProcess'])\n"
   ]
  },
  {
   "cell_type": "markdown",
   "metadata": {
    "papermill": {
     "duration": 0.075738,
     "end_time": "2021-05-15T05:03:19.969100",
     "exception": false,
     "start_time": "2021-05-15T05:03:19.893362",
     "status": "completed"
    },
    "tags": []
   },
   "source": [
    "# encoding YES and NO "
   ]
  },
  {
   "cell_type": "code",
   "execution_count": 74,
   "metadata": {
    "execution": {
     "iopub.execute_input": "2021-05-15T05:03:20.257923Z",
     "iopub.status.busy": "2021-05-15T05:03:20.244336Z",
     "iopub.status.idle": "2021-05-15T05:03:20.476035Z",
     "shell.execute_reply": "2021-05-15T05:03:20.475273Z"
    },
    "papermill": {
     "duration": 0.426013,
     "end_time": "2021-05-15T05:03:20.476182",
     "exception": false,
     "start_time": "2021-05-15T05:03:20.050169",
     "status": "completed"
    },
    "tags": []
   },
   "outputs": [],
   "source": [
    "from sklearn.preprocessing import OrdinalEncoder\n",
    "encoder = OrdinalEncoder(categories=[['Male','Female']])\n",
    "t.sex = encoder.fit_transform(t.sex.values.reshape(-1,1))\n",
    "\n",
    "encoder = OrdinalEncoder(categories=[['No','Yes']])\n",
    "t.Aged = encoder.fit_transform(t.Aged.values.reshape(-1,1))\n",
    "\n",
    "encoder = OrdinalEncoder(categories=[['Yes','No']])\n",
    "t.Married = encoder.fit_transform(t.Married.values.reshape(-1,1))\n",
    "\n",
    "encoder = OrdinalEncoder(categories=[['Yes','No']])\n",
    "t.TotalDependents = encoder.fit_transform(t.TotalDependents.values.reshape(-1,1))\n",
    "\n",
    "encoder = OrdinalEncoder(categories=[['Yes','No']])\n",
    "t.MobileService = encoder.fit_transform(t.MobileService.values.reshape(-1,1))\n",
    "\n",
    "encoder = OrdinalEncoder(categories=[['Yes','No']])\n",
    "t.CyberProtection = encoder.fit_transform(t.CyberProtection.values.reshape(-1,1))\n",
    "\n",
    "encoder = OrdinalEncoder(categories=[['No','Yes']])\n",
    "t.HardwareSupport = encoder.fit_transform(t.HardwareSupport.values.reshape(-1,1))\n",
    "\n",
    "encoder = OrdinalEncoder(categories=[['Yes','No']])\n",
    "t.TechnicalAssistance = encoder.fit_transform(t.TechnicalAssistance.values.reshape(-1,1))\n",
    "\n",
    "encoder = OrdinalEncoder(categories=[['No','Yes']])\n",
    "t.FilmSubscription = encoder.fit_transform(t.FilmSubscription.values.reshape(-1,1))"
   ]
  },
  {
   "cell_type": "code",
   "execution_count": 75,
   "metadata": {
    "execution": {
     "iopub.execute_input": "2021-05-15T05:03:20.641680Z",
     "iopub.status.busy": "2021-05-15T05:03:20.640994Z",
     "iopub.status.idle": "2021-05-15T05:03:20.643207Z",
     "shell.execute_reply": "2021-05-15T05:03:20.643731Z"
    },
    "papermill": {
     "duration": 0.089825,
     "end_time": "2021-05-15T05:03:20.643924",
     "exception": false,
     "start_time": "2021-05-15T05:03:20.554099",
     "status": "completed"
    },
    "tags": []
   },
   "outputs": [],
   "source": [
    "encoder = OrdinalEncoder(categories=[['No','Yes']])\n",
    "t.CustomerAttrition = encoder.fit_transform(t.CustomerAttrition.values.reshape(-1,1))"
   ]
  },
  {
   "cell_type": "markdown",
   "metadata": {
    "papermill": {
     "duration": 0.075019,
     "end_time": "2021-05-15T05:03:20.794819",
     "exception": false,
     "start_time": "2021-05-15T05:03:20.719800",
     "status": "completed"
    },
    "tags": []
   },
   "source": [
    "# Fnding out corelation of features with Customer Attrition"
   ]
  },
  {
   "cell_type": "code",
   "execution_count": 76,
   "metadata": {
    "execution": {
     "iopub.execute_input": "2021-05-15T05:03:20.951186Z",
     "iopub.status.busy": "2021-05-15T05:03:20.950498Z",
     "iopub.status.idle": "2021-05-15T05:03:20.966296Z",
     "shell.execute_reply": "2021-05-15T05:03:20.965652Z"
    },
    "papermill": {
     "duration": 0.096345,
     "end_time": "2021-05-15T05:03:20.966555",
     "exception": false,
     "start_time": "2021-05-15T05:03:20.870210",
     "status": "completed"
    },
    "tags": []
   },
   "outputs": [
    {
     "data": {
      "text/plain": [
       "sex                             0.039666\n",
       "Aged                            0.144317\n",
       "Married                         0.154204\n",
       "TotalDependents                 0.161210\n",
       "ServiceSpan                     0.350081\n",
       "MobileService                   0.030428\n",
       "CyberProtection                 0.169028\n",
       "HardwareSupport                 0.068410\n",
       "TechnicalAssistance             0.164290\n",
       "FilmSubscription                0.000143\n",
       "QuarterlyPayment                0.188959\n",
       "GrandPayment                    0.196938\n",
       "CustomerAttrition               1.000000\n",
       "SettlementProcess_Card          0.213571\n",
       "SettlementProcess_Check         0.083230\n",
       "SettlementProcess_Electronic    0.297823\n",
       "Name: CustomerAttrition, dtype: float64"
      ]
     },
     "execution_count": 76,
     "metadata": {},
     "output_type": "execute_result"
    }
   ],
   "source": [
    "abs(t.corr()['CustomerAttrition'])"
   ]
  },
  {
   "cell_type": "markdown",
   "metadata": {
    "papermill": {
     "duration": 0.075344,
     "end_time": "2021-05-15T05:03:21.118075",
     "exception": false,
     "start_time": "2021-05-15T05:03:21.042731",
     "status": "completed"
    },
    "tags": []
   },
   "source": [
    "***we can see that Film Subscription and Mobile service are irrelavent, while SettlementProcess_Bank and SettlementProcess_Card can be combined as one single feature***"
   ]
  },
  {
   "cell_type": "markdown",
   "metadata": {
    "papermill": {
     "duration": 0.075351,
     "end_time": "2021-05-15T05:03:21.268617",
     "exception": false,
     "start_time": "2021-05-15T05:03:21.193266",
     "status": "completed"
    },
    "tags": []
   },
   "source": [
    "> As we see that Service span is highly corelated with target, so its square can be considered.Not always a good idea."
   ]
  },
  {
   "cell_type": "code",
   "execution_count": 77,
   "metadata": {
    "execution": {
     "iopub.execute_input": "2021-05-15T05:03:21.426322Z",
     "iopub.status.busy": "2021-05-15T05:03:21.425683Z",
     "iopub.status.idle": "2021-05-15T05:03:21.428741Z",
     "shell.execute_reply": "2021-05-15T05:03:21.428225Z"
    },
    "papermill": {
     "duration": 0.084032,
     "end_time": "2021-05-15T05:03:21.428893",
     "exception": false,
     "start_time": "2021-05-15T05:03:21.344861",
     "status": "completed"
    },
    "tags": []
   },
   "outputs": [],
   "source": [
    "# v1 = t.ServiceSpan * t.ServiceSpan\n",
    "# t1 = tt.ServiceSpan * tt.ServiceSpan"
   ]
  },
  {
   "cell_type": "code",
   "execution_count": 78,
   "metadata": {
    "execution": {
     "iopub.execute_input": "2021-05-15T05:03:21.586762Z",
     "iopub.status.busy": "2021-05-15T05:03:21.586126Z",
     "iopub.status.idle": "2021-05-15T05:03:21.589179Z",
     "shell.execute_reply": "2021-05-15T05:03:21.589666Z"
    },
    "papermill": {
     "duration": 0.083099,
     "end_time": "2021-05-15T05:03:21.589830",
     "exception": false,
     "start_time": "2021-05-15T05:03:21.506731",
     "status": "completed"
    },
    "tags": []
   },
   "outputs": [],
   "source": [
    "# t['v1']=v1\n",
    "# tt['t1']=t1"
   ]
  },
  {
   "cell_type": "markdown",
   "metadata": {
    "papermill": {
     "duration": 0.076661,
     "end_time": "2021-05-15T05:03:21.742971",
     "exception": false,
     "start_time": "2021-05-15T05:03:21.666310",
     "status": "completed"
    },
    "tags": []
   },
   "source": [
    "# Setting Customer Attrition column as target and rest as input features"
   ]
  },
  {
   "cell_type": "code",
   "execution_count": 79,
   "metadata": {
    "execution": {
     "iopub.execute_input": "2021-05-15T05:03:21.898979Z",
     "iopub.status.busy": "2021-05-15T05:03:21.898285Z",
     "iopub.status.idle": "2021-05-15T05:03:21.905018Z",
     "shell.execute_reply": "2021-05-15T05:03:21.905495Z"
    },
    "papermill": {
     "duration": 0.085782,
     "end_time": "2021-05-15T05:03:21.905703",
     "exception": false,
     "start_time": "2021-05-15T05:03:21.819921",
     "status": "completed"
    },
    "tags": []
   },
   "outputs": [],
   "source": [
    "y = t['CustomerAttrition']\n",
    "X = t.drop('CustomerAttrition', axis=1)"
   ]
  },
  {
   "cell_type": "markdown",
   "metadata": {
    "papermill": {
     "duration": 0.076811,
     "end_time": "2021-05-15T05:03:22.058461",
     "exception": false,
     "start_time": "2021-05-15T05:03:21.981650",
     "status": "completed"
    },
    "tags": []
   },
   "source": [
    "# Dropping irrelavent features"
   ]
  },
  {
   "cell_type": "code",
   "execution_count": 80,
   "metadata": {
    "execution": {
     "iopub.execute_input": "2021-05-15T05:03:22.213841Z",
     "iopub.status.busy": "2021-05-15T05:03:22.212968Z",
     "iopub.status.idle": "2021-05-15T05:03:22.220459Z",
     "shell.execute_reply": "2021-05-15T05:03:22.220953Z"
    },
    "papermill": {
     "duration": 0.087399,
     "end_time": "2021-05-15T05:03:22.221132",
     "exception": false,
     "start_time": "2021-05-15T05:03:22.133733",
     "status": "completed"
    },
    "tags": []
   },
   "outputs": [],
   "source": [
    "X = X.drop(['MobileService','4GService','FilmSubscription'], axis=1)"
   ]
  },
  {
   "cell_type": "markdown",
   "metadata": {
    "papermill": {
     "duration": 0.07545,
     "end_time": "2021-05-15T05:03:22.372590",
     "exception": false,
     "start_time": "2021-05-15T05:03:22.297140",
     "status": "completed"
    },
    "tags": []
   },
   "source": [
    "# Visualizing relation using heatmap"
   ]
  },
  {
   "cell_type": "code",
   "execution_count": 81,
   "metadata": {
    "execution": {
     "iopub.execute_input": "2021-05-15T05:03:22.527789Z",
     "iopub.status.busy": "2021-05-15T05:03:22.527173Z",
     "iopub.status.idle": "2021-05-15T05:03:23.774856Z",
     "shell.execute_reply": "2021-05-15T05:03:23.775365Z"
    },
    "papermill": {
     "duration": 1.327489,
     "end_time": "2021-05-15T05:03:23.775547",
     "exception": false,
     "start_time": "2021-05-15T05:03:22.448058",
     "status": "completed"
    },
    "tags": []
   },
   "outputs": [
    {
     "data": {
      "image/png": "[encoded data removed]",
      "text/plain": [
       "<Figure size 864x720 with 2 Axes>"
      ]
     },
     "metadata": {
      "needs_background": "light"
     },
     "output_type": "display_data"
    }
   ],
   "source": [
    "import seaborn as sns\n",
    "plt.figure(figsize=(12,10))\n",
    "cor = X.corr()\n",
    "sns.heatmap(cor,annot = True, cmap = plt.cm.CMRmap_r)\n",
    "plt.show()"
   ]
  },
  {
   "cell_type": "markdown",
   "metadata": {
    "papermill": {
     "duration": 0.079887,
     "end_time": "2021-05-15T05:03:23.936278",
     "exception": false,
     "start_time": "2021-05-15T05:03:23.856391",
     "status": "completed"
    },
    "tags": []
   },
   "source": [
    "## seeing above corelatin matrix we can even remove GrandPayment column or keep GrandPayment and remove REST of the columns which relates >0.6 with GrandPayment\n",
    "\n",
    "## in this not removed"
   ]
  },
  {
   "cell_type": "markdown",
   "metadata": {
    "papermill": {
     "duration": 0.082785,
     "end_time": "2021-05-15T05:03:24.099759",
     "exception": false,
     "start_time": "2021-05-15T05:03:24.016974",
     "status": "completed"
    },
    "tags": []
   },
   "source": [
    "# checking variance of input features"
   ]
  },
  {
   "cell_type": "code",
   "execution_count": 82,
   "metadata": {
    "execution": {
     "iopub.execute_input": "2021-05-15T05:03:24.268046Z",
     "iopub.status.busy": "2021-05-15T05:03:24.267316Z",
     "iopub.status.idle": "2021-05-15T05:03:24.275581Z",
     "shell.execute_reply": "2021-05-15T05:03:24.274984Z"
    },
    "papermill": {
     "duration": 0.093911,
     "end_time": "2021-05-15T05:03:24.275719",
     "exception": false,
     "start_time": "2021-05-15T05:03:24.181808",
     "status": "completed"
    },
    "tags": []
   },
   "outputs": [
    {
     "data": {
      "text/plain": [
       "sex                             2.499933e-01\n",
       "Aged                            1.361899e-01\n",
       "Married                         2.497482e-01\n",
       "TotalDependents                 2.098813e-01\n",
       "ServiceSpan                     6.025230e+02\n",
       "CyberProtection                 2.053919e-01\n",
       "HardwareSupport                 2.243079e-01\n",
       "TechnicalAssistance             2.053919e-01\n",
       "QuarterlyPayment                9.111039e+02\n",
       "GrandPayment                    5.131045e+06\n",
       "SettlementProcess_Card          2.457379e-01\n",
       "SettlementProcess_Check         1.762342e-01\n",
       "SettlementProcess_Electronic    2.235417e-01\n",
       "dtype: float64"
      ]
     },
     "execution_count": 82,
     "metadata": {},
     "output_type": "execute_result"
    }
   ],
   "source": [
    "X.var()"
   ]
  },
  {
   "cell_type": "code",
   "execution_count": 83,
   "metadata": {
    "execution": {
     "iopub.execute_input": "2021-05-15T05:03:24.471116Z",
     "iopub.status.busy": "2021-05-15T05:03:24.470258Z",
     "iopub.status.idle": "2021-05-15T05:03:24.473295Z",
     "shell.execute_reply": "2021-05-15T05:03:24.472672Z"
    },
    "papermill": {
     "duration": 0.114538,
     "end_time": "2021-05-15T05:03:24.473455",
     "exception": false,
     "start_time": "2021-05-15T05:03:24.358917",
     "status": "completed"
    },
    "tags": []
   },
   "outputs": [],
   "source": [
    "X.set_index('ID',inplace=True)"
   ]
  },
  {
   "cell_type": "markdown",
   "metadata": {
    "papermill": {
     "duration": 0.081,
     "end_time": "2021-05-15T05:03:24.634879",
     "exception": false,
     "start_time": "2021-05-15T05:03:24.553879",
     "status": "completed"
    },
    "tags": []
   },
   "source": [
    "# making model"
   ]
  },
  {
   "cell_type": "code",
   "execution_count": 84,
   "metadata": {
    "execution": {
     "iopub.execute_input": "2021-05-15T05:03:24.800535Z",
     "iopub.status.busy": "2021-05-15T05:03:24.799871Z",
     "iopub.status.idle": "2021-05-15T05:03:25.261108Z",
     "shell.execute_reply": "2021-05-15T05:03:25.260359Z"
    },
    "papermill": {
     "duration": 0.546097,
     "end_time": "2021-05-15T05:03:25.261255",
     "exception": false,
     "start_time": "2021-05-15T05:03:24.715158",
     "status": "completed"
    },
    "tags": []
   },
   "outputs": [],
   "source": [
    "import seaborn as sns\n",
    "from sklearn.model_selection import train_test_split\n",
    "from sklearn.ensemble import RandomForestClassifier\n",
    "from sklearn.metrics import *\n",
    "from imblearn.over_sampling import *\n",
    "from imblearn.under_sampling import *"
   ]
  },
  {
   "cell_type": "markdown",
   "metadata": {
    "papermill": {
     "duration": 0.080946,
     "end_time": "2021-05-15T05:03:25.423215",
     "exception": false,
     "start_time": "2021-05-15T05:03:25.342269",
     "status": "completed"
    },
    "tags": []
   },
   "source": [
    "# run train_test_split, if you are validating using train set"
   ]
  },
  {
   "cell_type": "code",
   "execution_count": 85,
   "metadata": {
    "execution": {
     "iopub.execute_input": "2021-05-15T05:03:25.590786Z",
     "iopub.status.busy": "2021-05-15T05:03:25.589665Z",
     "iopub.status.idle": "2021-05-15T05:03:25.593427Z",
     "shell.execute_reply": "2021-05-15T05:03:25.592850Z"
    },
    "papermill": {
     "duration": 0.090263,
     "end_time": "2021-05-15T05:03:25.593612",
     "exception": false,
     "start_time": "2021-05-15T05:03:25.503349",
     "status": "completed"
    },
    "tags": []
   },
   "outputs": [],
   "source": [
    "X_train, X_test, y_train, y_test = train_test_split(X, y, test_size=0.3, random_state=42)"
   ]
  },
  {
   "cell_type": "markdown",
   "metadata": {
    "papermill": {
     "duration": 0.07979,
     "end_time": "2021-05-15T05:03:25.755036",
     "exception": false,
     "start_time": "2021-05-15T05:03:25.675246",
     "status": "completed"
    },
    "tags": []
   },
   "source": [
    "# checking dataset is Balanced or Imbalanced"
   ]
  },
  {
   "cell_type": "code",
   "execution_count": 86,
   "metadata": {
    "execution": {
     "iopub.execute_input": "2021-05-15T05:03:25.924334Z",
     "iopub.status.busy": "2021-05-15T05:03:25.923344Z",
     "iopub.status.idle": "2021-05-15T05:03:25.927359Z",
     "shell.execute_reply": "2021-05-15T05:03:25.926868Z"
    },
    "papermill": {
     "duration": 0.091995,
     "end_time": "2021-05-15T05:03:25.927497",
     "exception": false,
     "start_time": "2021-05-15T05:03:25.835502",
     "status": "completed"
    },
    "tags": []
   },
   "outputs": [
    {
     "data": {
      "text/plain": [
       "No     4658\n",
       "Yes    1680\n",
       "Name: CustomerAttrition, dtype: int64"
      ]
     },
     "execution_count": 86,
     "metadata": {},
     "output_type": "execute_result"
    }
   ],
   "source": [
    "train_orignal['CustomerAttrition'].value_counts()"
   ]
  },
  {
   "cell_type": "markdown",
   "metadata": {
    "papermill": {
     "duration": 0.079806,
     "end_time": "2021-05-15T05:03:26.087377",
     "exception": false,
     "start_time": "2021-05-15T05:03:26.007571",
     "status": "completed"
    },
    "tags": []
   },
   "source": [
    "> **we can see that dataset is highly imbalanced****"
   ]
  },
  {
   "cell_type": "markdown",
   "metadata": {
    "papermill": {
     "duration": 0.080686,
     "end_time": "2021-05-15T05:03:26.250271",
     "exception": false,
     "start_time": "2021-05-15T05:03:26.169585",
     "status": "completed"
    },
    "tags": []
   },
   "source": [
    "# Oversampling Data as not evenly distributed"
   ]
  },
  {
   "cell_type": "markdown",
   "metadata": {
    "papermill": {
     "duration": 0.08047,
     "end_time": "2021-05-15T05:03:26.754639",
     "exception": false,
     "start_time": "2021-05-15T05:03:26.674169",
     "status": "completed"
    },
    "tags": []
   },
   "source": [
    "## if we want to validate our model using 30% of train data, then we need to oversample only train data i.e. after splitting we get X_train and y_train, we will oversample this and test or validate on rest 30% i.e. X_test and y_test"
   ]
  },
  {
   "cell_type": "code",
   "execution_count": 87,
   "metadata": {
    "execution": {
     "iopub.execute_input": "2021-05-15T05:03:26.923083Z",
     "iopub.status.busy": "2021-05-15T05:03:26.922396Z",
     "iopub.status.idle": "2021-05-15T05:03:26.926199Z",
     "shell.execute_reply": "2021-05-15T05:03:26.925579Z"
    },
    "papermill": {
     "duration": 0.090261,
     "end_time": "2021-05-15T05:03:26.926335",
     "exception": false,
     "start_time": "2021-05-15T05:03:26.836074",
     "status": "completed"
    },
    "tags": []
   },
   "outputs": [],
   "source": [
    "sm = RandomOverSampler(random_state=200)\n",
    "X_res, y_res = sm.fit_resample(X_train, y_train)"
   ]
  },
  {
   "cell_type": "code",
   "execution_count": 88,
   "metadata": {},
   "outputs": [
    {
     "name": "stdout",
     "output_type": "stream",
     "text": [
      "              precision    recall  f1-score   support\n",
      "\n",
      "         0.0       0.85      0.85      0.85      1411\n",
      "         1.0       0.57      0.57      0.57       488\n",
      "\n",
      "    accuracy                           0.78      1899\n",
      "   macro avg       0.71      0.71      0.71      1899\n",
      "weighted avg       0.78      0.78      0.78      1899\n",
      "\n",
      "Precision 0.5728952772073922\n",
      "Recall 0.5717213114754098\n",
      "F1 0.5723076923076923\n",
      "ConfusionMATRIX [[1203  208]\n",
      " [ 209  279]]\n"
     ]
    }
   ],
   "source": [
    "model = RandomForestClassifier(criterion='entropy').fit(X_res, y_res)\n",
    "y_pred = model.predict(X_test)\n",
    "print(classification_report(y_test, y_pred))\n",
    "print(\"Precision\", precision_score(y_test, y_pred))\n",
    "print(\"Recall\", recall_score(y_test, y_pred))\n",
    "print(\"F1\", f1_score(y_test, y_pred))\n",
    "print(\"ConfusionMATRIX\",confusion_matrix(y_test, y_pred))"
   ]
  },
  {
   "cell_type": "markdown",
   "metadata": {
    "papermill": {
     "duration": 0.082759,
     "end_time": "2021-05-15T05:03:27.091019",
     "exception": false,
     "start_time": "2021-05-15T05:03:27.008260",
     "status": "completed"
    },
    "tags": []
   },
   "source": [
    "# Using Random Serch CV and Grid Serch CV for hyperparameter optimization in RandomForestClassifier"
   ]
  },
  {
   "cell_type": "markdown",
   "metadata": {
    "papermill": {
     "duration": 0.081532,
     "end_time": "2021-05-15T05:03:27.254707",
     "exception": false,
     "start_time": "2021-05-15T05:03:27.173175",
     "status": "completed"
    },
    "tags": []
   },
   "source": [
    "## please uncomment for running, i have commented as it takes time to run all"
   ]
  },
  {
   "cell_type": "code",
   "execution_count": 89,
   "metadata": {
    "execution": {
     "iopub.execute_input": "2021-05-15T05:03:27.421941Z",
     "iopub.status.busy": "2021-05-15T05:03:27.421094Z",
     "iopub.status.idle": "2021-05-15T05:03:27.424020Z",
     "shell.execute_reply": "2021-05-15T05:03:27.423498Z"
    },
    "papermill": {
     "duration": 0.08879,
     "end_time": "2021-05-15T05:03:27.424159",
     "exception": false,
     "start_time": "2021-05-15T05:03:27.335369",
     "status": "completed"
    },
    "tags": []
   },
   "outputs": [
    {
     "name": "stdout",
     "output_type": "stream",
     "text": [
      "{'n_estimators': [200, 233, 266, 300, 333, 366, 400, 433, 466, 500], 'max_features': ['auto', 'sqrt', 'log2'], 'max_depth': [10, 31, 52, 73, 94, 115, 136, 157, 178, 200], 'min_samples_split': [2, 5, 10, 14], 'min_samples_leaf': [1, 2, 4, 6, 8], 'criterion': ['entropy', 'gini']}\n"
     ]
    }
   ],
   "source": [
    "import numpy as np\n",
    "from sklearn.model_selection import RandomizedSearchCV\n",
    "# Number of trees in random forest\n",
    "n_estimators = [int(x) for x in np.linspace(start = 200, stop = 500, num = 10)]\n",
    "# Number of features to consider at every split\n",
    "max_features = ['auto', 'sqrt','log2']\n",
    "# Maximum number of levels in tree\n",
    "max_depth = [int(x) for x in np.linspace(10, 200,10)]\n",
    "# Minimum number of samples required to split a node\n",
    "min_samples_split = [2, 5, 10,14]\n",
    "# Minimum number of samples required at each leaf node\n",
    "min_samples_leaf = [1, 2, 4,6,8]\n",
    "# Create the random grid\n",
    "random_grid = {'n_estimators': n_estimators,\n",
    "               'max_features': max_features,\n",
    "               'max_depth': max_depth,\n",
    "               'min_samples_split': min_samples_split,\n",
    "               'min_samples_leaf': min_samples_leaf,\n",
    "              'criterion':['entropy','gini']}\n",
    "print(random_grid)"
   ]
  },
  {
   "cell_type": "code",
   "execution_count": 90,
   "metadata": {
    "execution": {
     "iopub.execute_input": "2021-05-15T05:03:27.594598Z",
     "iopub.status.busy": "2021-05-15T05:03:27.593898Z",
     "iopub.status.idle": "2021-05-15T05:03:27.597443Z",
     "shell.execute_reply": "2021-05-15T05:03:27.596943Z"
    },
    "papermill": {
     "duration": 0.090591,
     "end_time": "2021-05-15T05:03:27.597646",
     "exception": false,
     "start_time": "2021-05-15T05:03:27.507055",
     "status": "completed"
    },
    "tags": []
   },
   "outputs": [
    {
     "name": "stdout",
     "output_type": "stream",
     "text": [
      "Fitting 3 folds for each of 100 candidates, totalling 300 fits\n"
     ]
    },
    {
     "data": {
      "text/plain": [
       "RandomizedSearchCV(cv=3, estimator=RandomForestClassifier(), n_iter=100,\n",
       "                   n_jobs=-1,\n",
       "                   param_distributions={'criterion': ['entropy', 'gini'],\n",
       "                                        'max_depth': [10, 31, 52, 73, 94, 115,\n",
       "                                                      136, 157, 178, 200],\n",
       "                                        'max_features': ['auto', 'sqrt',\n",
       "                                                         'log2'],\n",
       "                                        'min_samples_leaf': [1, 2, 4, 6, 8],\n",
       "                                        'min_samples_split': [2, 5, 10, 14],\n",
       "                                        'n_estimators': [200, 233, 266, 300,\n",
       "                                                         333, 366, 400, 433,\n",
       "                                                         466, 500]},\n",
       "                   random_state=100, verbose=2)"
      ]
     },
     "execution_count": 90,
     "metadata": {},
     "output_type": "execute_result"
    }
   ],
   "source": [
    "rf=RandomForestClassifier()\n",
    "rf_randomcv=RandomizedSearchCV(estimator=rf,param_distributions=random_grid,n_iter=100,cv=3,verbose=2,\n",
    "                               random_state=100,n_jobs=-1)\n",
    "### fit the randomized model\n",
    "rf_randomcv.fit(X_res,y_res)"
   ]
  },
  {
   "cell_type": "code",
   "execution_count": 91,
   "metadata": {
    "execution": {
     "iopub.execute_input": "2021-05-15T05:03:27.765319Z",
     "iopub.status.busy": "2021-05-15T05:03:27.764672Z",
     "iopub.status.idle": "2021-05-15T05:03:27.767789Z",
     "shell.execute_reply": "2021-05-15T05:03:27.767210Z"
    },
    "papermill": {
     "duration": 0.088484,
     "end_time": "2021-05-15T05:03:27.767922",
     "exception": false,
     "start_time": "2021-05-15T05:03:27.679438",
     "status": "completed"
    },
    "tags": []
   },
   "outputs": [
    {
     "data": {
      "text/plain": [
       "{'n_estimators': 266,\n",
       " 'min_samples_split': 2,\n",
       " 'min_samples_leaf': 1,\n",
       " 'max_features': 'log2',\n",
       " 'max_depth': 157,\n",
       " 'criterion': 'gini'}"
      ]
     },
     "execution_count": 91,
     "metadata": {},
     "output_type": "execute_result"
    }
   ],
   "source": [
    "rf_randomcv.best_params_"
   ]
  },
  {
   "cell_type": "code",
   "execution_count": 92,
   "metadata": {
    "execution": {
     "iopub.execute_input": "2021-05-15T05:03:27.936536Z",
     "iopub.status.busy": "2021-05-15T05:03:27.935889Z",
     "iopub.status.idle": "2021-05-15T05:03:27.939232Z",
     "shell.execute_reply": "2021-05-15T05:03:27.938576Z"
    },
    "papermill": {
     "duration": 0.089262,
     "end_time": "2021-05-15T05:03:27.939375",
     "exception": false,
     "start_time": "2021-05-15T05:03:27.850113",
     "status": "completed"
    },
    "tags": []
   },
   "outputs": [
    {
     "data": {
      "text/plain": [
       "RandomizedSearchCV(cv=3, estimator=RandomForestClassifier(), n_iter=100,\n",
       "                   n_jobs=-1,\n",
       "                   param_distributions={'criterion': ['entropy', 'gini'],\n",
       "                                        'max_depth': [10, 31, 52, 73, 94, 115,\n",
       "                                                      136, 157, 178, 200],\n",
       "                                        'max_features': ['auto', 'sqrt',\n",
       "                                                         'log2'],\n",
       "                                        'min_samples_leaf': [1, 2, 4, 6, 8],\n",
       "                                        'min_samples_split': [2, 5, 10, 14],\n",
       "                                        'n_estimators': [200, 233, 266, 300,\n",
       "                                                         333, 366, 400, 433,\n",
       "                                                         466, 500]},\n",
       "                   random_state=100, verbose=2)"
      ]
     },
     "execution_count": 92,
     "metadata": {},
     "output_type": "execute_result"
    }
   ],
   "source": [
    "rf_randomcv"
   ]
  },
  {
   "cell_type": "code",
   "execution_count": 93,
   "metadata": {
    "execution": {
     "iopub.execute_input": "2021-05-15T05:03:28.106931Z",
     "iopub.status.busy": "2021-05-15T05:03:28.106271Z",
     "iopub.status.idle": "2021-05-15T05:03:28.109568Z",
     "shell.execute_reply": "2021-05-15T05:03:28.108879Z"
    },
    "papermill": {
     "duration": 0.088619,
     "end_time": "2021-05-15T05:03:28.109710",
     "exception": false,
     "start_time": "2021-05-15T05:03:28.021091",
     "status": "completed"
    },
    "tags": []
   },
   "outputs": [],
   "source": [
    "best_random_grid=rf_randomcv.best_estimator_"
   ]
  },
  {
   "cell_type": "markdown",
   "metadata": {
    "papermill": {
     "duration": 0.080841,
     "end_time": "2021-05-15T05:03:28.272243",
     "exception": false,
     "start_time": "2021-05-15T05:03:28.191402",
     "status": "completed"
    },
    "tags": []
   },
   "source": [
    "## run below cell only if splitted train set for validating"
   ]
  },
  {
   "cell_type": "markdown",
   "metadata": {
    "papermill": {
     "duration": 0.082261,
     "end_time": "2021-05-15T05:03:28.435872",
     "exception": false,
     "start_time": "2021-05-15T05:03:28.353611",
     "status": "completed"
    },
    "tags": []
   },
   "source": [
    "## below cell will give result with RandomSearch"
   ]
  },
  {
   "cell_type": "code",
   "execution_count": 94,
   "metadata": {
    "execution": {
     "iopub.execute_input": "2021-05-15T05:03:28.604944Z",
     "iopub.status.busy": "2021-05-15T05:03:28.604083Z",
     "iopub.status.idle": "2021-05-15T05:03:28.607198Z",
     "shell.execute_reply": "2021-05-15T05:03:28.606548Z"
    },
    "papermill": {
     "duration": 0.090216,
     "end_time": "2021-05-15T05:03:28.607337",
     "exception": false,
     "start_time": "2021-05-15T05:03:28.517121",
     "status": "completed"
    },
    "tags": []
   },
   "outputs": [
    {
     "name": "stdout",
     "output_type": "stream",
     "text": [
      "[[1193  218]\n",
      " [ 200  288]]\n",
      "Accuracy Score 0.779884149552396\n",
      "Classification report:               precision    recall  f1-score   support\n",
      "\n",
      "         0.0       0.86      0.85      0.85      1411\n",
      "         1.0       0.57      0.59      0.58       488\n",
      "\n",
      "    accuracy                           0.78      1899\n",
      "   macro avg       0.71      0.72      0.72      1899\n",
      "weighted avg       0.78      0.78      0.78      1899\n",
      "\n"
     ]
    }
   ],
   "source": [
    "from sklearn.metrics import accuracy_score\n",
    "y_pred=best_random_grid.predict(X_test)\n",
    "print(confusion_matrix(y_test,y_pred))\n",
    "print(\"Accuracy Score {}\".format(accuracy_score(y_test,y_pred)))\n",
    "print(\"Classification report: {}\".format(classification_report(y_test,y_pred)))"
   ]
  },
  {
   "cell_type": "markdown",
   "metadata": {
    "papermill": {
     "duration": 0.080982,
     "end_time": "2021-05-15T05:03:28.769845",
     "exception": false,
     "start_time": "2021-05-15T05:03:28.688863",
     "status": "completed"
    },
    "tags": []
   },
   "source": [
    "## using Random Search parameters in Grid Search\n",
    "## run this after running RandomSearch cells except just above one"
   ]
  },
  {
   "cell_type": "code",
   "execution_count": 95,
   "metadata": {
    "execution": {
     "iopub.execute_input": "2021-05-15T05:03:28.937843Z",
     "iopub.status.busy": "2021-05-15T05:03:28.936900Z",
     "iopub.status.idle": "2021-05-15T05:03:28.940465Z",
     "shell.execute_reply": "2021-05-15T05:03:28.939855Z"
    },
    "papermill": {
     "duration": 0.089639,
     "end_time": "2021-05-15T05:03:28.940630",
     "exception": false,
     "start_time": "2021-05-15T05:03:28.850991",
     "status": "completed"
    },
    "tags": []
   },
   "outputs": [
    {
     "name": "stdout",
     "output_type": "stream",
     "text": [
      "{'criterion': ['gini'], 'max_depth': [157], 'max_features': ['log2'], 'min_samples_leaf': [1, 3, 5], 'min_samples_split': [0, 1, 2, 3, 4], 'n_estimators': [66, 166, 266, 366, 466]}\n"
     ]
    }
   ],
   "source": [
    "from sklearn.model_selection import GridSearchCV\n",
    "\n",
    "param_grid = {\n",
    "    'criterion': [rf_randomcv.best_params_['criterion']],\n",
    "    'max_depth': [rf_randomcv.best_params_['max_depth']],\n",
    "    'max_features': [rf_randomcv.best_params_['max_features']],\n",
    "    'min_samples_leaf': [rf_randomcv.best_params_['min_samples_leaf'], \n",
    "                         rf_randomcv.best_params_['min_samples_leaf']+2, \n",
    "                         rf_randomcv.best_params_['min_samples_leaf'] + 4],\n",
    "    'min_samples_split': [rf_randomcv.best_params_['min_samples_split'] - 2,\n",
    "                          rf_randomcv.best_params_['min_samples_split'] - 1,\n",
    "                          rf_randomcv.best_params_['min_samples_split'], \n",
    "                          rf_randomcv.best_params_['min_samples_split'] +1,\n",
    "                          rf_randomcv.best_params_['min_samples_split'] + 2],\n",
    "    'n_estimators': [rf_randomcv.best_params_['n_estimators'] - 200, rf_randomcv.best_params_['n_estimators'] - 100, \n",
    "                     rf_randomcv.best_params_['n_estimators'], \n",
    "                     rf_randomcv.best_params_['n_estimators'] + 100, rf_randomcv.best_params_['n_estimators'] + 200]\n",
    "}\n",
    "\n",
    "print(param_grid)"
   ]
  },
  {
   "cell_type": "code",
   "execution_count": 96,
   "metadata": {
    "execution": {
     "iopub.execute_input": "2021-05-15T05:03:29.111705Z",
     "iopub.status.busy": "2021-05-15T05:03:29.111026Z",
     "iopub.status.idle": "2021-05-15T05:03:29.114139Z",
     "shell.execute_reply": "2021-05-15T05:03:29.113500Z"
    },
    "papermill": {
     "duration": 0.090363,
     "end_time": "2021-05-15T05:03:29.114288",
     "exception": false,
     "start_time": "2021-05-15T05:03:29.023925",
     "status": "completed"
    },
    "tags": []
   },
   "outputs": [
    {
     "name": "stdout",
     "output_type": "stream",
     "text": [
      "Fitting 10 folds for each of 75 candidates, totalling 750 fits\n"
     ]
    },
    {
     "name": "stderr",
     "output_type": "stream",
     "text": [
      "C:\\Users\\PRABHA\\anaconda3\\lib\\site-packages\\sklearn\\model_selection\\_search.py:922: UserWarning: One or more of the test scores are non-finite: [       nan        nan        nan        nan        nan        nan\n",
      "        nan        nan        nan        nan 0.90300842 0.8999201\n",
      " 0.90177243 0.90208083 0.89930257 0.89899083 0.89837498 0.90161834\n",
      " 0.90038354 0.89960955 0.88710096 0.89266033 0.89327762 0.89250553\n",
      " 0.89219641        nan        nan        nan        nan        nan\n",
      "        nan        nan        nan        nan        nan 0.84879191\n",
      " 0.84693672 0.84925535 0.84940871 0.84971903 0.84740373 0.84909912\n",
      " 0.84724607 0.84940895 0.84940991 0.84910007 0.84894599 0.84987239\n",
      " 0.85002815 0.84879071        nan        nan        nan        nan\n",
      "        nan        nan        nan        nan        nan        nan\n",
      " 0.82237654 0.82314934 0.82253015 0.82160398 0.82438295 0.81959638\n",
      " 0.82392214 0.8225311  0.82422792 0.82284022 0.82283998 0.82438343\n",
      " 0.82283879 0.82191191 0.82222175]\n",
      "  warnings.warn(\n"
     ]
    },
    {
     "data": {
      "text/plain": [
       "GridSearchCV(cv=10, estimator=RandomForestClassifier(), n_jobs=-1,\n",
       "             param_grid={'criterion': ['gini'], 'max_depth': [157],\n",
       "                         'max_features': ['log2'],\n",
       "                         'min_samples_leaf': [1, 3, 5],\n",
       "                         'min_samples_split': [0, 1, 2, 3, 4],\n",
       "                         'n_estimators': [66, 166, 266, 366, 466]},\n",
       "             verbose=2)"
      ]
     },
     "execution_count": 96,
     "metadata": {},
     "output_type": "execute_result"
    }
   ],
   "source": [
    "\n",
    "#### Fit the grid_search to the data\n",
    "rf=RandomForestClassifier()\n",
    "grid_search=GridSearchCV(estimator=rf,param_grid=param_grid,cv=10,n_jobs=-1,verbose=2)\n",
    "grid_search.fit(X_res,y_res)"
   ]
  },
  {
   "cell_type": "code",
   "execution_count": 97,
   "metadata": {
    "execution": {
     "iopub.execute_input": "2021-05-15T05:03:29.285636Z",
     "iopub.status.busy": "2021-05-15T05:03:29.284942Z",
     "iopub.status.idle": "2021-05-15T05:03:29.288325Z",
     "shell.execute_reply": "2021-05-15T05:03:29.287795Z"
    },
    "papermill": {
     "duration": 0.091279,
     "end_time": "2021-05-15T05:03:29.288462",
     "exception": false,
     "start_time": "2021-05-15T05:03:29.197183",
     "status": "completed"
    },
    "tags": []
   },
   "outputs": [
    {
     "data": {
      "text/plain": [
       "RandomForestClassifier(max_depth=157, max_features='log2', n_estimators=66)"
      ]
     },
     "execution_count": 97,
     "metadata": {},
     "output_type": "execute_result"
    }
   ],
   "source": [
    "grid_search.best_estimator_"
   ]
  },
  {
   "cell_type": "code",
   "execution_count": 99,
   "metadata": {
    "execution": {
     "iopub.execute_input": "2021-05-15T05:03:29.457108Z",
     "iopub.status.busy": "2021-05-15T05:03:29.456207Z",
     "iopub.status.idle": "2021-05-15T05:03:29.459024Z",
     "shell.execute_reply": "2021-05-15T05:03:29.458394Z"
    },
    "papermill": {
     "duration": 0.089151,
     "end_time": "2021-05-15T05:03:29.459160",
     "exception": false,
     "start_time": "2021-05-15T05:03:29.370009",
     "status": "completed"
    },
    "tags": []
   },
   "outputs": [],
   "source": [
    "best_grid=grid_search.best_estimator_"
   ]
  },
  {
   "cell_type": "code",
   "execution_count": 100,
   "metadata": {
    "execution": {
     "iopub.execute_input": "2021-05-15T05:03:29.627962Z",
     "iopub.status.busy": "2021-05-15T05:03:29.627194Z",
     "iopub.status.idle": "2021-05-15T05:03:29.631674Z",
     "shell.execute_reply": "2021-05-15T05:03:29.631093Z"
    },
    "papermill": {
     "duration": 0.090446,
     "end_time": "2021-05-15T05:03:29.631812",
     "exception": false,
     "start_time": "2021-05-15T05:03:29.541366",
     "status": "completed"
    },
    "tags": []
   },
   "outputs": [
    {
     "data": {
      "text/plain": [
       "RandomForestClassifier(max_depth=157, max_features='log2', n_estimators=66)"
      ]
     },
     "execution_count": 100,
     "metadata": {},
     "output_type": "execute_result"
    }
   ],
   "source": [
    "best_grid"
   ]
  },
  {
   "cell_type": "markdown",
   "metadata": {
    "papermill": {
     "duration": 0.08187,
     "end_time": "2021-05-15T05:03:29.795547",
     "exception": false,
     "start_time": "2021-05-15T05:03:29.713677",
     "status": "completed"
    },
    "tags": []
   },
   "source": [
    "## run below cell only if splitted train set for validating"
   ]
  },
  {
   "cell_type": "code",
   "execution_count": 101,
   "metadata": {
    "execution": {
     "iopub.execute_input": "2021-05-15T05:03:29.967013Z",
     "iopub.status.busy": "2021-05-15T05:03:29.966343Z",
     "iopub.status.idle": "2021-05-15T05:03:29.970285Z",
     "shell.execute_reply": "2021-05-15T05:03:29.969437Z"
    },
    "papermill": {
     "duration": 0.092892,
     "end_time": "2021-05-15T05:03:29.970429",
     "exception": false,
     "start_time": "2021-05-15T05:03:29.877537",
     "status": "completed"
    },
    "tags": []
   },
   "outputs": [
    {
     "name": "stdout",
     "output_type": "stream",
     "text": [
      "[[1196  215]\n",
      " [ 212  276]]\n",
      "Accuracy Score 0.775144813059505\n",
      "Classification report:               precision    recall  f1-score   support\n",
      "\n",
      "         0.0       0.85      0.85      0.85      1411\n",
      "         1.0       0.56      0.57      0.56       488\n",
      "\n",
      "    accuracy                           0.78      1899\n",
      "   macro avg       0.71      0.71      0.71      1899\n",
      "weighted avg       0.78      0.78      0.78      1899\n",
      "\n"
     ]
    }
   ],
   "source": [
    "y_pred=best_grid.predict(X_test)\n",
    "print(confusion_matrix(y_test,y_pred))\n",
    "print(\"Accuracy Score {}\".format(accuracy_score(y_test,y_pred)))\n",
    "print(\"Classification report: {}\".format(classification_report(y_test,y_pred)))"
   ]
  },
  {
   "cell_type": "markdown",
   "metadata": {},
   "source": [
    "**We can see their is no improvement. So, grid CV can be avoided or only one CV can be performed.**"
   ]
  },
  {
   "cell_type": "code",
   "execution_count": null,
   "metadata": {},
   "outputs": [],
   "source": []
  }
 ],
 "metadata": {
  "kernelspec": {
   "display_name": "Python 3",
   "language": "python",
   "name": "python3"
  },
  "language_info": {
   "codemirror_mode": {
    "name": "ipython",
    "version": 3
   },
   "file_extension": ".py",
   "mimetype": "text/x-python",
   "name": "python",
   "nbconvert_exporter": "python",
   "pygments_lexer": "ipython3",
   "version": "3.8.5"
  },
  "papermill": {
   "default_parameters": {},
   "duration": 29.142161,
   "end_time": "2021-05-15T05:03:32.718789",
   "environment_variables": {},
   "exception": null,
   "input_path": "__notebook__.ipynb",
   "output_path": "__notebook__.ipynb",
   "parameters": {},
   "start_time": "2021-05-15T05:03:03.576628",
   "version": "2.3.2"
  }
 },
 "nbformat": 4,
 "nbformat_minor": 5
}
